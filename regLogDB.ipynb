{
 "cells": [
  {
   "cell_type": "code",
   "execution_count": 1,
   "metadata": {},
   "outputs": [],
   "source": [
    "import pandas as pd"
   ]
  },
  {
   "cell_type": "code",
   "execution_count": 2,
   "metadata": {},
   "outputs": [],
   "source": [
    "data = pd.read_csv('BriefLogistique.csv')"
   ]
  },
  {
   "cell_type": "code",
   "execution_count": 14,
   "metadata": {},
   "outputs": [
    {
     "name": "stdout",
     "output_type": "stream",
     "text": [
      "<class 'pandas.core.frame.DataFrame'>\n",
      "RangeIndex: 400 entries, 0 to 399\n",
      "Data columns (total 5 columns):\n",
      " #   Column           Non-Null Count  Dtype \n",
      "---  ------           --------------  ----- \n",
      " 0   User ID          400 non-null    int64 \n",
      " 1   Gender           400 non-null    object\n",
      " 2   Age              400 non-null    int64 \n",
      " 3   EstimatedSalary  400 non-null    int64 \n",
      " 4   Purchased        400 non-null    int64 \n",
      "dtypes: int64(4), object(1)\n",
      "memory usage: 15.8+ KB\n"
     ]
    }
   ],
   "source": [
    "data.info()\n"
   ]
  },
  {
   "cell_type": "markdown",
   "metadata": {},
   "source": [
    "##  Faire la connexion Msql_ python"
   ]
  },
  {
   "cell_type": "code",
   "execution_count": 7,
   "metadata": {},
   "outputs": [],
   "source": [
    "\n",
    "import pymysql\n",
    "import sqlalchemy\n",
    "from sqlalchemy import create_engine\n",
    "engine= create_engine ('mysql+pymysql://root@localhost/regLogistique')"
   ]
  },
  {
   "cell_type": "code",
   "execution_count": 9,
   "metadata": {},
   "outputs": [],
   "source": [
    "\n",
    "data.to_sql('Phone', con=engine, if_exists='append')"
   ]
  },
  {
   "cell_type": "markdown",
   "metadata": {},
   "source": [
    "Cette instruction :\n",
    "\n",
    "    data.to_sql('Phone', con=engine, if_exists='append')\n",
    "\n",
    "a crée automatiquement cette la table Phone avec  les champs suivants :\n",
    "\n",
    "mysql> DESCRIBE Phone;\n",
    "\n",
    "+-----------------+--------+------+-----+---------+-------+\n",
    "| Field           | Type   | Null | Key | Default | Extra |\n",
    "+-----------------+--------+------+-----+---------+-------+\n",
    "| index           | bigint | YES  | MUL | NULL    |       |\n",
    "| User ID         | bigint | YES  |     | NULL    |       |\n",
    "| Gender          | text   | YES  |     | NULL    |       |\n",
    "| Age             | bigint | YES  |     | NULL    |       |\n",
    "| EstimatedSalary | bigint | YES  |     | NULL    |       |\n",
    "| Purchased       | bigint | YES  |     | NULL    |       |\n",
    "+-----------------+--------+------+-----+---------+-------+\n",
    "6 rows in set (0.00 sec)\n",
    "\n",
    "\n",
    "J'ai crée manuellement avec le terminal une table :\n",
    "\n",
    "mysql> USE regLogistique;\n",
    "\n",
    "Database changed\n",
    "\n",
    "mysql> CREATE TABLE purchased_Phone (\n",
    "    ->     User INT NOT NULL,\n",
    "    ->     Gender VARCHAR (8),\n",
    "    ->     Age INT NOT NULL,\n",
    "    ->     EstimatedSalary INT NOT NULL,\n",
    "    ->     Purchased INT NOT NULL\n",
    "    -> );\n",
    "Query OK, 0 rows affected (0.10 sec)\n",
    "\n",
    "\n",
    "mysql> DESCRIBE purchased_Phone;\n",
    "+-----------------+------------+------+-----+---------+-------+\n",
    "| Field           | Type       | Null | Key | Default | Extra |\n",
    "+-----------------+------------+------+-----+---------+-------+\n",
    "| User            | int        | NO   |     | NULL    |       |\n",
    "| Gender          | varchar(8) | YES  |     | NULL    |       |\n",
    "| Age             | int        | NO   |     | NULL    |       |\n",
    "| EstimatedSalary | int        | NO   |     | NULL    |       |\n",
    "| Purchased       | int        | NO   |     | NULL    |       |\n",
    "+-----------------+------------+------+-----+---------+-------+\n",
    "5 rows in set (0.00 sec)\n",
    "\n",
    "Lors de l'utilisation de cette dernière, il n' a pas pu faire la connexion car il manquait le champ index. \n",
    "Donc, dans l'avenir je lui ferrai confiance et je ne'aurai à créer les tables puisqu'il le s'enchargera automatiqument.\n",
    "\n"
   ]
  },
  {
   "cell_type": "code",
   "execution_count": 10,
   "metadata": {},
   "outputs": [],
   "source": [
    "data2 = pd.read_sql_table('Phone', con=engine)"
   ]
  },
  {
   "cell_type": "code",
   "execution_count": 11,
   "metadata": {},
   "outputs": [
    {
     "data": {
      "text/html": [
       "<div>\n",
       "<style scoped>\n",
       "    .dataframe tbody tr th:only-of-type {\n",
       "        vertical-align: middle;\n",
       "    }\n",
       "\n",
       "    .dataframe tbody tr th {\n",
       "        vertical-align: top;\n",
       "    }\n",
       "\n",
       "    .dataframe thead th {\n",
       "        text-align: right;\n",
       "    }\n",
       "</style>\n",
       "<table border=\"1\" class=\"dataframe\">\n",
       "  <thead>\n",
       "    <tr style=\"text-align: right;\">\n",
       "      <th></th>\n",
       "      <th>index</th>\n",
       "      <th>User ID</th>\n",
       "      <th>Gender</th>\n",
       "      <th>Age</th>\n",
       "      <th>EstimatedSalary</th>\n",
       "      <th>Purchased</th>\n",
       "    </tr>\n",
       "  </thead>\n",
       "  <tbody>\n",
       "    <tr>\n",
       "      <th>0</th>\n",
       "      <td>0</td>\n",
       "      <td>15624510</td>\n",
       "      <td>Male</td>\n",
       "      <td>19</td>\n",
       "      <td>19000</td>\n",
       "      <td>0</td>\n",
       "    </tr>\n",
       "    <tr>\n",
       "      <th>1</th>\n",
       "      <td>1</td>\n",
       "      <td>15810944</td>\n",
       "      <td>Male</td>\n",
       "      <td>35</td>\n",
       "      <td>20000</td>\n",
       "      <td>0</td>\n",
       "    </tr>\n",
       "    <tr>\n",
       "      <th>2</th>\n",
       "      <td>2</td>\n",
       "      <td>15668575</td>\n",
       "      <td>Female</td>\n",
       "      <td>26</td>\n",
       "      <td>43000</td>\n",
       "      <td>0</td>\n",
       "    </tr>\n",
       "    <tr>\n",
       "      <th>3</th>\n",
       "      <td>3</td>\n",
       "      <td>15603246</td>\n",
       "      <td>Female</td>\n",
       "      <td>27</td>\n",
       "      <td>57000</td>\n",
       "      <td>0</td>\n",
       "    </tr>\n",
       "    <tr>\n",
       "      <th>4</th>\n",
       "      <td>4</td>\n",
       "      <td>15804002</td>\n",
       "      <td>Male</td>\n",
       "      <td>19</td>\n",
       "      <td>76000</td>\n",
       "      <td>0</td>\n",
       "    </tr>\n",
       "    <tr>\n",
       "      <th>...</th>\n",
       "      <td>...</td>\n",
       "      <td>...</td>\n",
       "      <td>...</td>\n",
       "      <td>...</td>\n",
       "      <td>...</td>\n",
       "      <td>...</td>\n",
       "    </tr>\n",
       "    <tr>\n",
       "      <th>395</th>\n",
       "      <td>395</td>\n",
       "      <td>15691863</td>\n",
       "      <td>Female</td>\n",
       "      <td>46</td>\n",
       "      <td>41000</td>\n",
       "      <td>1</td>\n",
       "    </tr>\n",
       "    <tr>\n",
       "      <th>396</th>\n",
       "      <td>396</td>\n",
       "      <td>15706071</td>\n",
       "      <td>Male</td>\n",
       "      <td>51</td>\n",
       "      <td>23000</td>\n",
       "      <td>1</td>\n",
       "    </tr>\n",
       "    <tr>\n",
       "      <th>397</th>\n",
       "      <td>397</td>\n",
       "      <td>15654296</td>\n",
       "      <td>Female</td>\n",
       "      <td>50</td>\n",
       "      <td>20000</td>\n",
       "      <td>1</td>\n",
       "    </tr>\n",
       "    <tr>\n",
       "      <th>398</th>\n",
       "      <td>398</td>\n",
       "      <td>15755018</td>\n",
       "      <td>Male</td>\n",
       "      <td>36</td>\n",
       "      <td>33000</td>\n",
       "      <td>0</td>\n",
       "    </tr>\n",
       "    <tr>\n",
       "      <th>399</th>\n",
       "      <td>399</td>\n",
       "      <td>15594041</td>\n",
       "      <td>Female</td>\n",
       "      <td>49</td>\n",
       "      <td>36000</td>\n",
       "      <td>1</td>\n",
       "    </tr>\n",
       "  </tbody>\n",
       "</table>\n",
       "<p>400 rows × 6 columns</p>\n",
       "</div>"
      ],
      "text/plain": [
       "     index   User ID  Gender  Age  EstimatedSalary  Purchased\n",
       "0        0  15624510    Male   19            19000          0\n",
       "1        1  15810944    Male   35            20000          0\n",
       "2        2  15668575  Female   26            43000          0\n",
       "3        3  15603246  Female   27            57000          0\n",
       "4        4  15804002    Male   19            76000          0\n",
       "..     ...       ...     ...  ...              ...        ...\n",
       "395    395  15691863  Female   46            41000          1\n",
       "396    396  15706071    Male   51            23000          1\n",
       "397    397  15654296  Female   50            20000          1\n",
       "398    398  15755018    Male   36            33000          0\n",
       "399    399  15594041  Female   49            36000          1\n",
       "\n",
       "[400 rows x 6 columns]"
      ]
     },
     "execution_count": 11,
     "metadata": {},
     "output_type": "execute_result"
    }
   ],
   "source": [
    "data2"
   ]
  },
  {
   "cell_type": "code",
   "execution_count": 12,
   "metadata": {},
   "outputs": [],
   "source": [
    "# MongoDB\n",
    "import pymongo"
   ]
  },
  {
   "cell_type": "markdown",
   "metadata": {},
   "source": [
    "##  Faire la connexion mongodb _ python"
   ]
  },
  {
   "cell_type": "code",
   "execution_count": 13,
   "metadata": {},
   "outputs": [],
   "source": [
    "from pymongo import MongoClient\n",
    "import pprint\n",
    "\n",
    "client = MongoClient()\n",
    "db = client.SJob \n"
   ]
  },
  {
   "cell_type": "markdown",
   "metadata": {},
   "source": [
    "Lancer mongodb sous docker\n",
    "\n",
    "    sudo docker exec -it mongodb mongo\n",
    "    \n",
    "Définir une base de données\n",
    "\n",
    "    use PhoneMongo\n",
    "    \n",
    "Définir une collection myCollection\n",
    "     \n",
    "     db.createCollection(\"Phone\")\n",
    " \n",
    "Cette commande donne le résultat suivant :\n",
    "\n",
    "    use PhoneMongo\n",
    "    switched to db PhoneMongo\n",
    "    > db.createCollection(\"Phone\")\n",
    "    { \"ok\" : 1 }\n",
    "    \n",
    "Une fois la collection Phone créée, la base PhoneMongo apprait dans la liste des bases\n",
    "\n",
    "    > show dbs\n",
    "    PhoneMongo   0.000GB\n",
    "    SJob         0.000GB\n",
    "    admin        0.000GB\n",
    "    collections  0.000GB\n",
    "    config       0.000GB\n",
    "    local        0.000GB\n",
    "    \n",
    " \n",
    "\n"
   ]
  }
 ],
 "metadata": {
  "kernelspec": {
   "display_name": "Python 3",
   "language": "python",
   "name": "python3"
  },
  "language_info": {
   "codemirror_mode": {
    "name": "ipython",
    "version": 3
   },
   "file_extension": ".py",
   "mimetype": "text/x-python",
   "name": "python",
   "nbconvert_exporter": "python",
   "pygments_lexer": "ipython3",
   "version": "3.7.9"
  }
 },
 "nbformat": 4,
 "nbformat_minor": 4
}
